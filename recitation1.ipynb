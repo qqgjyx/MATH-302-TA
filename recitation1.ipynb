{
 "cells": [
  {
   "cell_type": "code",
   "execution_count": 6,
   "metadata": {},
   "outputs": [],
   "source": [
    "import numpy as np\n",
    "import math\n",
    "from scipy.misc import derivative\n",
    "from scipy.optimize import minimize_scalar\n",
    "from matplotlib import pyplot as plt\n",
    "from ipywidgets import interact, IntSlider\n"
   ]
  },
  {
   "cell_type": "code",
   "execution_count": 2,
   "metadata": {},
   "outputs": [],
   "source": [
    "def bisection_method(f, a, b, tol=1e-5, max_iterations=1000):\n",
    "    if f(a) * f(b) >= 0:\n",
    "        return None\n",
    "    \n",
    "    a_n = a\n",
    "    b_n = b\n",
    "    for n in range(1, max_iterations + 1):\n",
    "        x_n = (a_n + b_n) / 2\n",
    "        f_x_n = f(x_n)\n",
    "        if f(a_n) * f_x_n < 0:\n",
    "            b_n = x_n\n",
    "        elif f(b_n) * f_x_n < 0:\n",
    "            a_n = x_n\n",
    "        elif f_x_n == 0:\n",
    "            print(\"Found exact solution.\")\n",
    "            return x_n\n",
    "        else:\n",
    "            print(\"Bisection method fails.\")\n",
    "            return None\n",
    "        if abs(b - a)/2**n <= tol:  #e_n <= epsilon; abs(b_n - a_n) <= tol can also work\n",
    "            return x_n\n",
    "    print(\"Exceeded maximum iterations.\")\n",
    "    return (a_n + b_n) / 2"
   ]
  },
  {
   "cell_type": "code",
   "execution_count": 3,
   "metadata": {},
   "outputs": [],
   "source": [
    "def equation1(x): return np.exp(x)-3*x**2\n",
    "def equation2(x): return x**3-x**2-x-1\n",
    "def equation3(x): return np.exp(x)-(1/(0.1+x**2))\n",
    "def equation4(x): return x-1-0.3*np.cos(x)"
   ]
  },
  {
   "cell_type": "code",
   "execution_count": 4,
   "metadata": {},
   "outputs": [],
   "source": [
    "#Problem 1\n",
    "def find_initial_guess_intervals(f, start=0, step_size=0.5, max_steps=1000):\n",
    "    \"\"\"\n",
    "    Find initial guess intervals [a, b] of length 1 for the Bisection Method where the function changes sign.\n",
    "\n",
    "    Parameters:\n",
    "    - f: The function for which to find the roots.\n",
    "    - start: The starting point for the search.\n",
    "    - step_size: The step size to use when moving from the start point.\n",
    "    - max_steps: The maximum number of steps to take from the start point.\n",
    "\n",
    "    Returns:\n",
    "    - A list of tuples [(a, b), ...] representing the intervals, or empty list if no change in sign is found.\n",
    "    \"\"\"\n",
    "    intervals = []\n",
    "    x_prev = start\n",
    "    f_prev = f(x_prev)\n",
    "    for _ in range(max_steps):\n",
    "        x_next = x_prev + step_size\n",
    "        f_next = f(x_next)\n",
    "\n",
    "        if f_prev * f_next < 0:\n",
    "            a = min(x_prev, x_next)\n",
    "            b = max(x_prev, x_next)\n",
    "            # Ensure that the interval is unique and does not significantly overlap with existing intervals\n",
    "            if not any(a <= interval[1] and b >= interval[0] for interval in intervals):\n",
    "                intervals.append((a, b))\n",
    "\n",
    "        x_prev, f_prev = x_next, f_next\n",
    "\n",
    "        # Invert direction if reaching the end of the step limit\n",
    "        if _ == max_steps // 2:\n",
    "            x_prev = start\n",
    "            f_prev = f(x_prev)\n",
    "            step_size = -step_size\n",
    "        \n",
    "    if not intervals:\n",
    "        print(\"Failed to find a change in sign. Try adjusting the start point or step size.\")\n",
    "    \n",
    "    return intervals"
   ]
  },
  {
   "cell_type": "code",
   "execution_count": 5,
   "metadata": {},
   "outputs": [
    {
     "name": "stdout",
     "output_type": "stream",
     "text": [
      "Equation 1: Interval (0.5, 1.0). The root found is: 0.9100112915039062\n",
      "Equation 1: Interval (3.5, 4.0). The root found is: 3.7330856323242188\n",
      "Equation 1: Interval (-0.5, 0). The root found is: -0.45896148681640625\n",
      "Equation 2: Interval (1.5, 2.0). The root found is: 1.8392868041992188\n",
      "Equation 3: Interval (0.5, 1.0). The root found is: 0.6497573852539062\n",
      "Equation 4: Interval (1.0, 1.5). The root found is: 1.1284255981445312\n"
     ]
    }
   ],
   "source": [
    "def find_and_process_roots(equation, equation_number):\n",
    "    intervals = find_initial_guess_intervals(equation)\n",
    "    if intervals:\n",
    "        for interval in intervals:\n",
    "            root = bisection_method(equation, *interval)\n",
    "            if root is not None:\n",
    "                print(f\"Equation {equation_number}: Interval {interval}. The root found is: {root}\")\n",
    "    else:\n",
    "        print(f\"Equation {equation_number}: No valid intervals found.\")\n",
    "\n",
    "# Example usage for each equation\n",
    "find_and_process_roots(equation1, 1)\n",
    "find_and_process_roots(equation2, 2)\n",
    "find_and_process_roots(equation3, 3)\n",
    "find_and_process_roots(equation4, 4)"
   ]
  },
  {
   "cell_type": "code",
   "execution_count": 7,
   "metadata": {},
   "outputs": [],
   "source": [
    "def newton_method(f, df, x0, tol=1e-5, max_iter=100):\n",
    "    \"\"\"\n",
    "    Finds a root of the function f(x) = 0 using Newton's method, and returns the number of iterations.\n",
    "\n",
    "    Parameters:\n",
    "    - f: The function for which we are trying to approximate a root.\n",
    "    - df: The derivative of the function f.\n",
    "    - x0: Initial guess for a root of f(x).\n",
    "    - tol: The tolerance for the approximation of the root.\n",
    "    - max_iter: The maximum number of iterations.\n",
    "\n",
    "    Returns:\n",
    "    - A tuple containing:\n",
    "        - The approximation for the root of f(x) = 0 if found, otherwise None.\n",
    "        - The number of iterations used.\n",
    "    \"\"\"\n",
    "    xn = x0\n",
    "    for n in range(1, max_iter + 1):\n",
    "        fxn = f(xn)\n",
    "        dfxn = df(xn)\n",
    "        if dfxn == 0:\n",
    "            print(\"Zero derivative. No solution found.\")\n",
    "            return None, n\n",
    "        h = fxn / dfxn\n",
    "        xn_next = xn - h\n",
    "        if abs(h) < tol and math.isclose(f(xn_next), 0, abs_tol=tol):\n",
    "            return xn_next, n\n",
    "        xn = xn_next\n",
    "    return xn, max_iter"
   ]
  },
  {
   "cell_type": "code",
   "execution_count": 8,
   "metadata": {},
   "outputs": [
    {
     "name": "stdout",
     "output_type": "stream",
     "text": [
      "Equation 1: Initial guess 0.9100112915039062. The root found is: 0.9100075724968794\n",
      "Equation 1: Initial guess 3.7330856323242188. The root found is: 3.7330790286730404\n",
      "Equation 1: Initial guess -0.45896148681640625. The root found is: -0.4589622675374317\n",
      "Equation 2: Initial guess 1.8392868041992188. The root found is: 1.8392867552141632\n",
      "Equation 3: Initial guess 0.6497573852539062. The root found is: 0.6497506817520194\n",
      "Equation 4: Initial guess 1.1284255981445312. The root found is: 1.1284250929922375\n"
     ]
    }
   ],
   "source": [
    "# Define the derivatives of the equations\n",
    "df1 = lambda x: np.exp(x) - 6*x\n",
    "df2 = lambda x: 3*x**2 - 2*x - 1\n",
    "df3 = lambda x: np.exp(x) + 2*x/(0.1 + x**2)**2\n",
    "df4 = lambda x: 1 + 0.3*np.sin(x)\n",
    "\n",
    "def find_and_process_roots_Newton(equation, df, equation_number):\n",
    "    intervals = find_initial_guess_intervals(equation)\n",
    "    if intervals:\n",
    "        for interval in intervals:\n",
    "            root, n =  newton_method(equation, df, bisection_method(equation, *interval))\n",
    "            if root is not None:\n",
    "                print(f\"Equation {equation_number}: Initial guess {bisection_method(equation, *interval)}. The root found is: {root}\")\n",
    "    else:\n",
    "        print(f\"Equation {equation_number}: No valid intervals found.\")\n",
    "\n",
    "# Example usage for each equation\n",
    "find_and_process_roots_Newton(equation1, df1, 1)\n",
    "find_and_process_roots_Newton(equation2, df2, 2)\n",
    "find_and_process_roots_Newton(equation3, df3, 3)\n",
    "find_and_process_roots_Newton(equation4, df4, 4)"
   ]
  },
  {
   "cell_type": "code",
   "execution_count": null,
   "metadata": {},
   "outputs": [],
   "source": []
  }
 ],
 "metadata": {
  "kernelspec": {
   "display_name": "ml",
   "language": "python",
   "name": "python3"
  },
  "language_info": {
   "codemirror_mode": {
    "name": "ipython",
    "version": 3
   },
   "file_extension": ".py",
   "mimetype": "text/x-python",
   "name": "python",
   "nbconvert_exporter": "python",
   "pygments_lexer": "ipython3",
   "version": "3.11.10"
  }
 },
 "nbformat": 4,
 "nbformat_minor": 2
}
